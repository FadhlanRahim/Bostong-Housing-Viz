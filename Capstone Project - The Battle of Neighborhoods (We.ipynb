{
    "cells": [
        {
            "cell_type": "markdown",
            "metadata": {},
            "source": "# Capstone Project - The Battle of Neighborhoods (Week 1)"
        },
        {
            "cell_type": "markdown",
            "metadata": {
                "collapsed": true
            },
            "source": "# Identifying The Business Problem (Intro) :"
        },
        {
            "cell_type": "markdown",
            "metadata": {},
            "source": "Toronto is one of the most densely populated areas in Canada with population over 6 million. Being the land of opportunity, it brings in a variety of people from different ethnic backgrounds, Multiculturalism is seen through the various neighbourhoods. Downtown Toronto being the hub of interactions between ethnicities brings many opportunities for entrepreneurs to start or grow their business. It is a place where people can try the best of each culture, either while they work or just passing through. Toronto is well known for its great variety of food.\n\nThe objective of this project is to use Foursquare location data and regional clustering of venue information to determine what might be the \u2018best\u2019 neighbourhood in Toronto to open a place(s) to eat. Thai food shares a lot of similarities with other food culture, like malaysia and indonesia. Southeast asian is the 5th largest demographic of toronto with over 7% of its population by year 2020, with majority of 5% are from Thailand, there are numerous opportunities to open a new Thai Food places or Southeast food function in general. Through this project, we will find the most suitable location for an entrepreneur to open a new places in Torono, Canada."
        },
        {
            "cell_type": "markdown",
            "metadata": {},
            "source": "# Data Overview :"
        },
        {
            "cell_type": "markdown",
            "metadata": {},
            "source": "The data that will be required will be : \n1. a combination of CSV files that have been prepared for the purposes of the analysis from multiple sources which will provide the list of neighbourhoods in Toronto (via Wikipedia)\n2. the Geographical location of the neighbourhoods (via Geocoder package).\n3. Venue data pertaining to Thai Food Places (via Foursquare). The Venue data will help find which neighbourhood is best suitable to open a new place(s)."
        },
        {
            "cell_type": "markdown",
            "metadata": {},
            "source": "# Source 1: Toronto Neighborhoods via Wikipedia"
        },
        {
            "cell_type": "markdown",
            "metadata": {},
            "source": "'https://en.wikipedia.org/wiki/List_of_postal_codes_of_Canada:_M'\n\nThe Wikipedia site shown above provided almost all the information about the neighbourhoods. It included the postal code, borough and the name of the neighbourhoods present in Toronto. Since the data is not in a format that is suitable for analysis, scraping of the data was done from this site"
        },
        {
            "cell_type": "markdown",
            "metadata": {},
            "source": "# Source 2: Geographical Location data using Geocoder Package"
        },
        {
            "cell_type": "markdown",
            "metadata": {},
            "source": "https://cocl.us/Geospatial_data\n\nThe second source of data provided us with the Geographical coordinates of the neighbourhoods with the respective Postal Codes. The file was in CSV format, so we had to attach it to a Pandas data frame"
        },
        {
            "cell_type": "markdown",
            "metadata": {},
            "source": "# Source 3: Venue Data using Foursquare"
        },
        {
            "cell_type": "markdown",
            "metadata": {},
            "source": "We will be performing data cleansing on the data we acquire from forsquare, the data will be grouped by their respective neighborhood, so it will be easier for us to perform clustering."
        },
        {
            "cell_type": "code",
            "execution_count": null,
            "metadata": {},
            "outputs": [],
            "source": ""
        }
    ],
    "metadata": {
        "kernelspec": {
            "display_name": "Python 3.7",
            "language": "python",
            "name": "python3"
        },
        "language_info": {
            "codemirror_mode": {
                "name": "ipython",
                "version": 3
            },
            "file_extension": ".py",
            "mimetype": "text/x-python",
            "name": "python",
            "nbconvert_exporter": "python",
            "pygments_lexer": "ipython3",
            "version": "3.7.9"
        }
    },
    "nbformat": 4,
    "nbformat_minor": 1
}